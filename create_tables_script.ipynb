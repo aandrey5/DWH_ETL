{
 "cells": [
  {
   "cell_type": "code",
   "execution_count": 2,
   "metadata": {},
   "outputs": [],
   "source": [
    "import psycopg2\n",
    "\n",
    "q = \"\"\"\n",
    "create table log (\n",
    "       source_launch_id    int\n",
    "     , target_schema       text\n",
    "     , target_table        text  \n",
    "     , target_launch_id    int\n",
    "     , processed_dttm      timestamp default now()\n",
    "     , row_count           int\n",
    "     , duration            interval\n",
    "     , load_date           date\n",
    ")\n",
    "\"\"\"\n",
    "\n",
    "\n",
    "conn_string= \"host='192.168.147.128' port=54320 dbname='my_database' user='root' password='postgres'\" \n",
    "with psycopg2.connect(conn_string) as conn, conn.cursor() as cursor:\n",
    "    cursor.execute(q)"
   ]
  },
  {
   "cell_type": "code",
   "execution_count": 1,
   "metadata": {},
   "outputs": [],
   "source": [
    "import psycopg2\n",
    "\n",
    "q = \"\"\"\n",
    "create table statistic (\n",
    "       table_name     text\n",
    "     , column_name    text\n",
    "     , cnt_nulls      int\n",
    "     , cnt_all        int\n",
    "     , load_date      date\n",
    ")\n",
    "\"\"\"\n",
    "\n",
    "conn_string= \"host='192.168.147.128' port=54320 dbname='my_database' user='root' password='postgres'\" \n",
    "with psycopg2.connect(conn_string) as conn, conn.cursor() as cursor:\n",
    "    cursor.execute(q)"
   ]
  },
  {
   "cell_type": "code",
   "execution_count": null,
   "metadata": {},
   "outputs": [],
   "source": []
  }
 ],
 "metadata": {
  "kernelspec": {
   "display_name": "Python 3",
   "language": "python",
   "name": "python3"
  },
  "language_info": {
   "codemirror_mode": {
    "name": "ipython",
    "version": 3
   },
   "file_extension": ".py",
   "mimetype": "text/x-python",
   "name": "python",
   "nbconvert_exporter": "python",
   "pygments_lexer": "ipython3",
   "version": "3.8.8"
  }
 },
 "nbformat": 4,
 "nbformat_minor": 4
}
